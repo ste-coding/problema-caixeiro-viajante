{
 "cells": [
  {
   "cell_type": "markdown",
   "metadata": {},
   "source": [
    "# Análise dos Dados dos Algoritmos ACO e GRASP\n",
    "\n",
    "Neste notebook, vamos analisar os dados salvos dos algoritmos GRASP e Colônia de Formigas aplicados ao problema do caixeiro viajante. Vamos carregar os dados salvos com `np.savez`, convertê-los para DataFrames e criar gráficos para analisar diferentes aspectos de sua qualidade e execução.\n"
   ]
  },
  {
   "cell_type": "markdown",
   "metadata": {},
   "source": [
    "## Importando bibliotecas"
   ]
  },
  {
   "cell_type": "code",
   "execution_count": 1,
   "metadata": {},
   "outputs": [],
   "source": [
    "import numpy as np\n",
    "import pandas as pd\n",
    "import seaborn as sns\n",
    "import matplotlib.pyplot as plt\n"
   ]
  },
  {
   "cell_type": "markdown",
   "metadata": {},
   "source": [
    "## Carregamento e processamento dos dados (GRASP)\n",
    "Vamos processar os dados do GRASP para converter os resultados em DataFrames do Pandas.\n"
   ]
  },
  {
   "cell_type": "code",
   "execution_count": 2,
   "metadata": {},
   "outputs": [
    {
     "name": "stdout",
     "output_type": "stream",
     "text": [
      "                                      melhor_caminho  distancia_total  \\\n",
      "0  [33, 43, 10, 9, 8, 41, 19, 45, 32, 49, 1, 22, ...      7544.365902   \n",
      "1  [30, 23, 20, 50, 29, 16, 46, 44, 34, 35, 36, 3...      7544.365902   \n",
      "2  [31, 22, 1, 49, 32, 45, 19, 41, 8, 9, 10, 43, ...      7544.365902   \n",
      "\n",
      "   tempo_execucao                                   historico_custos  \n",
      "0      265.960417  [[11321.406811487523, 10971.476389585001, 1067...  \n",
      "1      268.547644  [[10516.052125051114, 10226.818865417084, 9940...  \n",
      "2      224.408046  [[11190.399529984757, 10624.519111231328, 1027...  \n",
      "     execucao  distancia_total\n",
      "0  execucao_1      7544.365902\n",
      "1  execucao_2      7544.365902\n",
      "2  execucao_3      7544.365902\n"
     ]
    }
   ],
   "source": [
    "def carregar_dados_grasp(arquivo):\n",
    "    \"\"\"Carrega e agrega dados do arquivo NPZ.\"\"\"\n",
    "    dados_grasp = np.load(arquivo, allow_pickle=True)\n",
    "    execucoes_grasp = []\n",
    "\n",
    "    for chave in dados_grasp.files:\n",
    "        dados = dados_grasp[chave]\n",
    "        if isinstance(dados, np.ndarray) and dados.ndim == 0:\n",
    "            dados = dados.item()  # Converte o array 0-dimensional para um objeto Python (dicionário)\n",
    "            if isinstance(dados, dict):\n",
    "                execucoes_grasp.append(dados)\n",
    "            else:\n",
    "                print(f\"Tipo de dados inesperado para a chave {chave}: {type(dados)}\")\n",
    "        else:\n",
    "            print(f\"Tipo de dados inesperado para a chave {chave}: {type(dados)}\")\n",
    "\n",
    "    return execucoes_grasp\n",
    "\n",
    "def processar_dados_grasp(dados):\n",
    "    \"\"\"Converte a lista de dicionários em um DataFrame do Pandas.\"\"\"\n",
    "    if isinstance(dados, list) and all(isinstance(item, dict) for item in dados):\n",
    "        return pd.DataFrame({\n",
    "            'melhor_caminho': [item['melhor_caminho'] for item in dados],\n",
    "            'distancia_total': [item['distancia_total'] for item in dados],\n",
    "            'tempo_execucao': [item['tempo_execucao'] for item in dados],\n",
    "            'historico_custos': [item['historico_custos'] for item in dados]\n",
    "        })\n",
    "    else:\n",
    "        raise ValueError(\"Estrutura dos dados não reconhecida.\")\n",
    "\n",
    "def criar_dataframe_resultados(dados_grasp):\n",
    "    \"\"\"Cria um DataFrame com base nos resultados carregados.\"\"\"\n",
    "    resultados_grasp = {k: v.item() for k, v in dados_grasp.items()}\n",
    "    lista_resultados = []\n",
    "\n",
    "    for execucao, dados in resultados_grasp.items():\n",
    "        dados['execucao'] = execucao\n",
    "        lista_resultados.append(dados)\n",
    "\n",
    "    return pd.DataFrame(lista_resultados)\n",
    "\n",
    "# Carregar e processar dados\n",
    "execucoes_grasp = carregar_dados_grasp('resultados_grasp.npz')\n",
    "\n",
    "# Criar DataFrame de resultados\n",
    "df_grasp = criar_dataframe_resultados(np.load('resultados_grasp.npz', allow_pickle=True))\n",
    "\n",
    "# Processar dados GRASP\n",
    "if execucoes_grasp:\n",
    "    df_grasp_processado = processar_dados_grasp(execucoes_grasp)\n",
    "    # Exibir as primeiras linhas do DataFrame processado\n",
    "    print(df_grasp_processado.head())\n",
    "else:\n",
    "    print(\"Nenhum dado foi carregado.\")\n",
    "\n",
    "# Mostrar DataFrame com execuções e distância total\n",
    "print(df_grasp[['execucao', 'distancia_total']])\n"
   ]
  },
  {
   "cell_type": "markdown",
   "metadata": {},
   "source": [
    "## Carregarmento e processamento dos dados (ACO)\n",
    "\n",
    "Agora, vamos carregar e processar os dados do Algoritmo de Colônia de Formigas (ACO).\n"
   ]
  },
  {
   "cell_type": "code",
   "execution_count": 3,
   "metadata": {},
   "outputs": [
    {
     "name": "stdout",
     "output_type": "stream",
     "text": [
      "                                      melhor_caminho  distancia_total  \\\n",
      "0  [(9, 8), (8, 7), (7, 40), (40, 18), (18, 44), ...      7786.889227   \n",
      "1  [(21, 0), (0, 48), (48, 31), (31, 44), (44, 18...      7728.279855   \n",
      "2  [(21, 0), (0, 48), (48, 31), (31, 44), (44, 18...      7544.662211   \n",
      "\n",
      "   tempo_execucao                                   historico_custos  \n",
      "0       90.987671  [13714.982913899496, 12616.504728270604, 12816...  \n",
      "1       91.298795  [13556.374853956328, 13856.724862471181, 13556...  \n",
      "2       91.175339  [13628.899806499294, 13157.589119278362, 12996...  \n"
     ]
    }
   ],
   "source": [
    "data_aco = np.load('resultados_colonia_formigas.npz', allow_pickle=True)\n",
    "\n",
    "# Listar todas as chaves disponíveis no arquivo\n",
    "# print(\"Chaves do arquivo ACO:\", data_aco.files)\n",
    "\n",
    "execucoes_aco = []\n",
    "\n",
    "# Inspecionar e agregar dados\n",
    "for chave in data_aco.files:\n",
    "    dados = data_aco[chave]\n",
    "    if isinstance(dados, np.ndarray) and dados.ndim == 0:\n",
    "        dados = dados.item()  # Converte o array 0-dimensional para um objeto Python (dicionário)\n",
    "        if isinstance(dados, dict):\n",
    "            execucoes_aco.append(dados)\n",
    "        else:\n",
    "            print(f\"Tipo de dados inesperado para a chave {chave}: {type(dados)}\")\n",
    "    else:\n",
    "        print(f\"Tipo de dados inesperado para a chave {chave}: {type(dados)}\")\n",
    "\n",
    "def processar_dados_aco(dados):\n",
    "    if isinstance(dados, list) and all(isinstance(item, dict) for item in dados):\n",
    "        return pd.DataFrame({\n",
    "            'melhor_caminho': [item['melhor_caminho'] for item in dados],\n",
    "            'distancia_total': [item['distancia_total'] for item in dados],\n",
    "            'tempo_execucao': [item['tempo_execucao'] for item in dados],\n",
    "            'historico_custos': [item['historico_custos'] for item in dados]\n",
    "        })\n",
    "    else:\n",
    "        raise ValueError(\"Estrutura dos dados não reconhecida.\")\n",
    "\n",
    "# Processar dados\n",
    "if execucoes_aco:\n",
    "    df_aco = processar_dados_aco(execucoes_aco)\n",
    "    # Exibir as primeiras linhas do DataFrame\n",
    "    print(df_aco.head())\n",
    "else:\n",
    "    print(\"Nenhum dado foi carregado.\")\n"
   ]
  },
  {
   "cell_type": "markdown",
   "metadata": {},
   "source": [
    "### Consultar as colunas do data frame"
   ]
  },
  {
   "cell_type": "code",
   "execution_count": null,
   "metadata": {},
   "outputs": [],
   "source": [
    "# Verifique as colunas do DataFrame df_aco\n",
    "print(df_aco.columns)\n"
   ]
  },
  {
   "cell_type": "code",
   "execution_count": 4,
   "metadata": {},
   "outputs": [],
   "source": [
    "# Adicionar uma coluna 'execucao_num' com a ordem das execuções\n",
    "df_grasp['execucao_num'] = df_grasp.index + 1\n",
    "df_aco['execucao_num'] = df_aco.index + 1\n"
   ]
  },
  {
   "cell_type": "markdown",
   "metadata": {},
   "source": [
    "# Análise e Visualização\n",
    "\n",
    "### Distribuição da Distância Total para GRASP"
   ]
  },
  {
   "cell_type": "code",
   "execution_count": null,
   "metadata": {},
   "outputs": [],
   "source": [
    "\n",
    "distancia_constante = df_grasp['distancia_total'].iloc[0]  # Obtendo o valor constante\n",
    "\n",
    "plt.figure(figsize=(12, 6))\n",
    "plt.scatter(range(len(df_grasp)), df_grasp['distancia_total'], color='skyblue', alpha=0.7)\n",
    "plt.axhline(y=distancia_constante, color='red', linestyle='--', label=f'Valor Constante: {distancia_constante}')\n",
    "plt.title('Distância Total para GRASP (Dispersão)')\n",
    "plt.xlabel('Execução')\n",
    "plt.ylabel('Distância Total')\n",
    "plt.legend()\n",
    "plt.grid(True)\n",
    "plt.show()\n"
   ]
  },
  {
   "cell_type": "markdown",
   "metadata": {},
   "source": [
    "### Distribuição do Tempo de Execução para GRASP"
   ]
  },
  {
   "cell_type": "code",
   "execution_count": null,
   "metadata": {},
   "outputs": [],
   "source": [
    "plt.figure(figsize=(12, 6))\n",
    "plt.plot(range(1, len(df_grasp) + 1), df_grasp['tempo_execucao'], label='GRASP', color='blue', marker='o')\n",
    "plt.title('Tempo de Execução ao Longo das Execuções - GRASP')\n",
    "plt.xlabel('Número da Execução')\n",
    "plt.ylabel('Tempo de Execução (segundos)')\n",
    "plt.grid(True)\n",
    "plt.show()"
   ]
  },
  {
   "cell_type": "markdown",
   "metadata": {},
   "source": [
    "### Distribuição da Distância Total para ACO\n"
   ]
  },
  {
   "cell_type": "code",
   "execution_count": null,
   "metadata": {},
   "outputs": [],
   "source": [
    "plt.figure(figsize=(12, 6))\n",
    "plt.plot(df_aco['distancia_total'], df_aco['execucao_num'], marker='o', linestyle='-', color='salmon', label='ACO')\n",
    "plt.title('Evolução da Distância Total para ACO')\n",
    "plt.xlabel('Distância Total')\n",
    "plt.ylabel('Número de Execução')\n",
    "plt.grid(True)\n",
    "plt.legend()\n",
    "plt.show()\n"
   ]
  },
  {
   "cell_type": "markdown",
   "metadata": {},
   "source": [
    "### Distribuição do Tempo de Execução para ACO\n"
   ]
  },
  {
   "cell_type": "code",
   "execution_count": null,
   "metadata": {},
   "outputs": [],
   "source": [
    "# Gráfico de linha para o tempo de execução ao longo das execuções - ACO\n",
    "plt.figure(figsize=(12, 6))\n",
    "plt.plot(range(1, len(df_aco) + 1), df_aco['tempo_execucao'], label='ACO', color='red', marker='o')\n",
    "plt.title('Tempo de Execução ao Longo das Execuções - ACO')\n",
    "plt.xlabel('Número da Execução')\n",
    "plt.ylabel('Tempo de Execução (segundos)')\n",
    "plt.grid(True)\n",
    "plt.show()\n"
   ]
  },
  {
   "cell_type": "markdown",
   "metadata": {},
   "source": [
    "### Comparar Distribuição da Distância Total entre GRASP e ACO\n"
   ]
  },
  {
   "cell_type": "code",
   "execution_count": null,
   "metadata": {},
   "outputs": [],
   "source": [
    "# Comparar distribuição da distância total entre GRASP e ACO\n",
    "plt.figure(figsize=(12, 6))\n",
    "plt.hist(df_grasp['distancia_total'], bins=20, alpha=0.5, label='GRASP', edgecolor='k')\n",
    "plt.hist(df_aco['distancia_total'], bins=20, alpha=0.5, label='ACO', edgecolor='k')\n",
    "plt.title('Comparação da Distância Total entre GRASP e ACO')\n",
    "plt.xlabel('Distância Total')\n",
    "plt.ylabel('Frequência')\n",
    "plt.legend()\n",
    "plt.show()\n"
   ]
  },
  {
   "cell_type": "markdown",
   "metadata": {},
   "source": [
    "### Comparar Distribuição do Tempo de Execução entre GRASP e ACO\n"
   ]
  },
  {
   "cell_type": "code",
   "execution_count": null,
   "metadata": {},
   "outputs": [],
   "source": [
    "# Gráfico de linha para o tempo de execução ao longo das execuções - GRASP e ACO\n",
    "plt.figure(figsize=(12, 6))\n",
    "\n",
    "# Linha para GRASP\n",
    "plt.plot(range(1, len(df_grasp) + 1), df_grasp['tempo_execucao'], label='GRASP', color='blue', marker='o')\n",
    "\n",
    "# Linha para ACO\n",
    "plt.plot(range(1, len(df_aco) + 1), df_aco['tempo_execucao'], label='ACO', color='red', marker='o')\n",
    "\n",
    "# Configurações do gráfico\n",
    "plt.title('Tempo de Execução ao Longo das Execuções - GRASP vs ACO')\n",
    "plt.xlabel('Número da Execução')\n",
    "plt.ylabel('Tempo de Execução (segundos)')\n",
    "plt.legend()\n",
    "plt.grid(True)\n",
    "plt.show()\n"
   ]
  },
  {
   "cell_type": "markdown",
   "metadata": {},
   "source": [
    "# Análise Estatística para ACO e GRASP\n",
    "\n",
    "Vamos realizar uma análise detalhada dos tempos de execução e das soluções encontradas para os algoritmos ACO e GRASP.\n",
    "\n"
   ]
  },
  {
   "cell_type": "markdown",
   "metadata": {},
   "source": [
    "### Melhor Caminho de Cada Execução\n"
   ]
  },
  {
   "cell_type": "code",
   "execution_count": null,
   "metadata": {},
   "outputs": [],
   "source": [
    "print(\"Melhor Caminho Encontrado em Cada Execução (GRASP):\")\n",
    "print(df_grasp['melhor_caminho'])\n",
    "\n",
    "print(\"Melhor Caminho Encontrado em Cada Execução (ACO):\")\n",
    "print(df_aco['melhor_caminho'])\n"
   ]
  },
  {
   "cell_type": "markdown",
   "metadata": {},
   "source": [
    "### Melhor Caminho de Cada Iteração"
   ]
  },
  {
   "cell_type": "code",
   "execution_count": null,
   "metadata": {},
   "outputs": [],
   "source": [
    "# Exemplo para ACO\n",
    "df_aco['melhor_caminho_iteracoes'] = [iteracao for iteracao in df_aco['historico_custos']]\n",
    "print(df_aco[['melhor_caminho', 'melhor_caminho_iteracoes']])\n"
   ]
  },
  {
   "cell_type": "markdown",
   "metadata": {},
   "source": [
    "### Distância do Melhor Caminho e Distância a Cada Iteração\n"
   ]
  },
  {
   "cell_type": "code",
   "execution_count": null,
   "metadata": {},
   "outputs": [],
   "source": [
    "print(\"Distância do Melhor Caminho (GRASP):\")\n",
    "print(df_grasp['distancia_total'])\n",
    "\n",
    "print(\"Distância do Melhor Caminho (ACO):\")\n",
    "print(df_aco['distancia_total'])\n",
    "\n",
    "print(\"Distâncias ao Longo das Iterações (ACO):\")\n",
    "print(df_aco['historico_custos'])\n"
   ]
  },
  {
   "cell_type": "markdown",
   "metadata": {},
   "source": [
    "### Tempo de Cada Execução"
   ]
  },
  {
   "cell_type": "code",
   "execution_count": null,
   "metadata": {},
   "outputs": [],
   "source": [
    "print(\"Tempo de Execução (GRASP):\")\n",
    "print(df_grasp['tempo_execucao'])\n",
    "\n",
    "print(\"Tempo de Execução (ACO):\")\n",
    "print(df_aco['tempo_execucao'])\n"
   ]
  },
  {
   "cell_type": "markdown",
   "metadata": {},
   "source": [
    "## Estatísticas Básicas: Média, Mediana e Moda\n"
   ]
  },
  {
   "cell_type": "code",
   "execution_count": null,
   "metadata": {},
   "outputs": [],
   "source": [
    "from scipy import stats\n",
    "\n",
    "def estatisticas(df, coluna):\n",
    "    media = df[coluna].mean()\n",
    "    mediana = df[coluna].median()\n",
    "    \n",
    "    # Calcula a moda\n",
    "    moda_resultado = stats.mode(df[coluna], keepdims=True)\n",
    "    moda = moda_resultado.mode[0] if moda_resultado.count[0] > 0 else np.nan\n",
    "    \n",
    "    desvio_padrao = df[coluna].std()\n",
    "    minimo = df[coluna].min()\n",
    "    maximo = df[coluna].max()\n",
    "    \n",
    "    return media, mediana, moda, desvio_padrao, minimo, maximo\n",
    "\n",
    "# Estatísticas para GRASP\n",
    "media_tempo_grasp, mediana_tempo_grasp, moda_tempo_grasp, desvio_padrao_tempo_grasp, min_tempo_grasp, max_tempo_grasp = estatisticas(df_grasp, 'tempo_execucao')\n",
    "media_distancia_grasp, mediana_distancia_grasp, moda_distancia_grasp, desvio_padrao_distancia_grasp, min_distancia_grasp, max_distancia_grasp = estatisticas(df_grasp, 'distancia_total')\n",
    "\n",
    "# Estatísticas para ACO\n",
    "media_tempo_aco, mediana_tempo_aco, moda_tempo_aco, desvio_padrao_tempo_aco, min_tempo_aco, max_tempo_aco = estatisticas(df_aco, 'tempo_execucao')\n",
    "media_distancia_aco, mediana_distancia_aco, moda_distancia_aco, desvio_padrao_distancia_aco, min_distancia_aco, max_distancia_aco = estatisticas(df_aco, 'distancia_total')\n",
    "\n",
    "print(f\"GRASP - Tempo de Execução: Média={media_tempo_grasp}, Mediana={mediana_tempo_grasp}, Moda={moda_tempo_grasp}, Desvio Padrão={desvio_padrao_tempo_grasp}, Minimo={min_tempo_grasp}, Máximo={max_tempo_grasp}\")\n",
    "print(f\"GRASP - Distância Total: Média={media_distancia_grasp}, Mediana={mediana_distancia_grasp}, Moda={moda_distancia_grasp}, Desvio Padrão={desvio_padrao_distancia_grasp}, Minimo={min_distancia_grasp}, Máximo={max_distancia_grasp}\")\n",
    "\n",
    "print(f\"ACO - Tempo de Execução: Média={media_tempo_aco}, Mediana={mediana_tempo_aco}, Moda={moda_tempo_aco}, Desvio Padrão={desvio_padrao_tempo_aco}, Minimo={min_tempo_aco}, Máximo={max_tempo_aco}\")\n",
    "print(f\"ACO - Distância Total: Média={media_distancia_aco}, Mediana={mediana_distancia_aco}, Moda={moda_distancia_aco}, Desvio Padrão={desvio_padrao_distancia_aco}, Minimo={min_distancia_aco}, Máximo={max_distancia_aco}\")\n"
   ]
  },
  {
   "cell_type": "markdown",
   "metadata": {},
   "source": [
    "## Desvio Padrão\n"
   ]
  },
  {
   "cell_type": "code",
   "execution_count": null,
   "metadata": {},
   "outputs": [],
   "source": [
    "# Desvio padrão para ACO\n",
    "desvio_padrao_tempo_aco = df_aco['tempo_execucao'].std()\n",
    "desvio_padrao_distancia_aco = df_aco['distancia_total'].std()\n",
    "\n",
    "print(\"ACO:\")\n",
    "print(f\"Desvio padrão do tempo de execução: {desvio_padrao_tempo_aco}\")\n",
    "print(f\"Desvio padrão da distância total: {desvio_padrao_distancia_aco}\")\n",
    "\n",
    "# Desvio padrão para GRASP (assumindo que df_grasp já está definido)\n",
    "desvio_padrao_tempo_grasp = df_grasp['tempo_execucao'].std()\n",
    "desvio_padrao_distancia_grasp = df_grasp['distancia_total'].std()\n",
    "\n",
    "print(\"\\nGRASP:\")\n",
    "print(f\"Desvio padrão do tempo de execução: {desvio_padrao_tempo_grasp}\")\n",
    "print(f\"Desvio padrão da distância total: {desvio_padrao_distancia_grasp}\")\n"
   ]
  },
  {
   "cell_type": "markdown",
   "metadata": {},
   "source": [
    "### Ponto de Convergência\n"
   ]
  },
  {
   "cell_type": "code",
   "execution_count": null,
   "metadata": {},
   "outputs": [],
   "source": [
    "# Para ACO\n",
    "def detectar_convergencia(historico_custos):\n",
    "    melhorias = np.diff(historico_custos)  # Diferença entre custos consecutivos\n",
    "    estagnacao = np.where(melhorias <= 0)[0]  # Índices onde não há melhoria\n",
    "    if len(estagnacao) > 0:\n",
    "        return estagnacao[0] + 1  # Retorna a primeira iteração de estagnação\n",
    "    return len(historico_custos)  # Se não houver estagnação, retorna o total de iterações\n",
    "\n",
    "df_aco['ponto_convergencia'] = df_aco['historico_custos'].apply(detectar_convergencia)\n",
    "print(df_aco[['ponto_convergencia']])\n"
   ]
  },
  {
   "cell_type": "markdown",
   "metadata": {},
   "source": [
    "### Histórico de Custo\n"
   ]
  },
  {
   "cell_type": "code",
   "execution_count": null,
   "metadata": {},
   "outputs": [],
   "source": [
    "# Plotar o histórico de custos para ACO\n",
    "plt.figure(figsize=(12, 6))\n",
    "for i, row in df_aco.iterrows():\n",
    "    plt.plot(row['historico_custos'], label=f'Execução {i+1}')\n",
    "\n",
    "plt.title('Histórico de Custo ao Longo das Iterações (ACO)')\n",
    "plt.xlabel('Número da Iteração')\n",
    "plt.ylabel('Custo')\n",
    "plt.legend()\n",
    "plt.grid(True)\n",
    "plt.show()\n"
   ]
  }
 ],
 "metadata": {
  "kernelspec": {
   "display_name": ".venv",
   "language": "python",
   "name": "python3"
  },
  "language_info": {
   "codemirror_mode": {
    "name": "ipython",
    "version": 3
   },
   "file_extension": ".py",
   "mimetype": "text/x-python",
   "name": "python",
   "nbconvert_exporter": "python",
   "pygments_lexer": "ipython3",
   "version": "3.12.2"
  }
 },
 "nbformat": 4,
 "nbformat_minor": 2
}
