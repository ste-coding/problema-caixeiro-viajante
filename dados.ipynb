{
 "cells": [
  {
   "cell_type": "markdown",
   "metadata": {},
   "source": [
    "# Análise dos Dados dos Algoritmos ACO e GRASP\n",
    "\n",
    "Neste notebook, vamos analisar os dados salvos dos algoritmos GRASP e Colônia de Formigas aplicados ao problema do caixeiro viajante. Vamos carregar os dados salvos com `np.savez`, convertê-los para DataFrames e criar gráficos para analisar diferentes aspectos de sua qualidade e execução.\n"
   ]
  },
  {
   "cell_type": "markdown",
   "metadata": {},
   "source": [
    "## Importando bibliotecas"
   ]
  },
  {
   "cell_type": "code",
   "execution_count": 1,
   "metadata": {},
   "outputs": [],
   "source": [
    "import numpy as np\n",
    "import pandas as pd\n",
    "import seaborn as sns\n",
    "import matplotlib.pyplot as plt\n"
   ]
  },
  {
   "cell_type": "markdown",
   "metadata": {},
   "source": [
    "## Carregamento e processamento dos dados (GRASP)\n",
    "Vamos processar os dados do GRASP para converter os resultados em DataFrames do Pandas.\n"
   ]
  },
  {
   "cell_type": "code",
   "execution_count": 3,
   "metadata": {},
   "outputs": [],
   "source": [
    "def carregar_dados_grasp(arquivo):\n",
    "    \"\"\"Carrega e agrega dados do arquivo NPZ.\"\"\"\n",
    "    dados_grasp = np.load(arquivo, allow_pickle=True)\n",
    "    execucoes_grasp = []\n",
    "\n",
    "    # Supondo que os dados estejam sob a chave 'resultados_grasp'\n",
    "    chave = 'resultados_grasp'\n",
    "    if chave in dados_grasp:\n",
    "        dados = dados_grasp[chave]\n",
    "        if isinstance(dados, np.ndarray):\n",
    "            for execucao_dados in dados:\n",
    "                if isinstance(execucao_dados, dict):\n",
    "                    # Adiciona a chave 'execucao' para identificar a execução\n",
    "                    execucao_dados['execucao'] = execucao_dados.get('execucao_num', None)\n",
    "                    execucoes_grasp.append(execucao_dados)\n",
    "                else:\n",
    "                    print(f\"Tipo de dados inesperado na execução: {type(execucao_dados)}\")\n",
    "        else:\n",
    "            print(f\"Tipo de dados inesperado para a chave {chave}: {type(dados)}\")\n",
    "    else:\n",
    "        print(f\"Chave {chave} não encontrada no arquivo NPZ.\")\n",
    "\n",
    "    return execucoes_grasp\n"
   ]
  },
  {
   "cell_type": "code",
   "execution_count": 6,
   "metadata": {},
   "outputs": [
    {
     "name": "stdout",
     "output_type": "stream",
     "text": [
      "Colunas do DataFrame: Index(['execucao_num', 'melhor_caminho', 'tempo_execucao', 'distancia_total',\n",
      "       'historico_custos', 'execucao'],\n",
      "      dtype='object')\n",
      "   execucao  distancia_total  tempo_execucao\n",
      "0         1      1105.517077        0.019587\n",
      "1         2      1105.517077        0.020145\n",
      "2         3      1105.517077        0.018264\n",
      "3         4      1105.517077        0.020173\n",
      "Colunas do DataFrame: Index(['execucao_num', 'melhor_caminho', 'tempo_execucao', 'distancia_total',\n",
      "       'historico_custos', 'execucao'],\n",
      "      dtype='object')\n",
      "   execucao  distancia_total  tempo_execucao\n",
      "0         1      1105.517077        0.019587\n",
      "1         2      1105.517077        0.020145\n",
      "2         3      1105.517077        0.018264\n",
      "3         4      1105.517077        0.020173\n"
     ]
    }
   ],
   "source": [
    "def criar_dataframe_resultados(arquivo):\n",
    "    \"\"\"Cria um DataFrame com base nos resultados carregados do arquivo NPZ.\"\"\"\n",
    "    execucoes_grasp = carregar_dados_grasp(arquivo)\n",
    "    return pd.DataFrame(execucoes_grasp)\n",
    "\n",
    "# Carregar e criar DataFrame de resultados\n",
    "df_grasp = criar_dataframe_resultados('resultados_grasp.npz')\n",
    "\n",
    "# Verificar as colunas do DataFrame\n",
    "print(\"Colunas do DataFrame:\", df_grasp.columns)\n",
    "\n",
    "# Mostrar DataFrame com execuções e distância total\n",
    "try:\n",
    "    print(df_grasp[['execucao', 'distancia_total', 'tempo_execucao']])\n",
    "except KeyError as e:\n",
    "    print(f\"Erro ao acessar colunas: {e}\")\n",
    "\n",
    "\n",
    "# Verificar as colunas do DataFrame\n",
    "print(\"Colunas do DataFrame:\", df_grasp.columns)\n",
    "\n",
    "# Mostrar DataFrame com execuções e distância total\n",
    "try:\n",
    "    print(df_grasp[['execucao', 'distancia_total', 'tempo_execucao']])\n",
    "except KeyError as e:\n",
    "    print(f\"Erro ao acessar colunas: {e}\")\n"
   ]
  },
  {
   "cell_type": "markdown",
   "metadata": {},
   "source": [
    "## Carregarmento e processamento dos dados (ACO)\n",
    "\n",
    "Agora, vamos carregar e processar os dados do Algoritmo de Colônia de Formigas (ACO).\n"
   ]
  },
  {
   "cell_type": "code",
   "execution_count": 7,
   "metadata": {},
   "outputs": [],
   "source": [
    "def carregar_dados_aco(arquivo):\n",
    "    \"\"\"Carrega e agrega dados do arquivo NPZ.\"\"\"\n",
    "    dados_aco = np.load(arquivo, allow_pickle=True)\n",
    "    execucoes_aco = []\n",
    "\n",
    "    # Supondo que os dados estejam sob a chave 'resultados_aco'\n",
    "    chave = 'resultados_aco'\n",
    "    if chave in dados_aco:\n",
    "        dados = dados_aco[chave]\n",
    "        if isinstance(dados, np.ndarray):\n",
    "            for execucao_dados in dados:\n",
    "                if isinstance(execucao_dados, dict):\n",
    "                    # Adiciona a chave 'execucao' para identificar a execução\n",
    "                    execucao_dados['execucao'] = execucao_dados.get('execucao_num', None)\n",
    "                    execucoes_aco.append(execucao_dados)\n",
    "                else:\n",
    "                    print(f\"Tipo de dados inesperado na execução: {type(execucao_dados)}\")\n",
    "        else:\n",
    "            print(f\"Tipo de dados inesperado para a chave {chave}: {type(dados)}\")\n",
    "    else:\n",
    "        print(f\"Chave {chave} não encontrada no arquivo NPZ.\")\n",
    "\n",
    "    return execucoes_aco\n"
   ]
  },
  {
   "cell_type": "code",
   "execution_count": 8,
   "metadata": {},
   "outputs": [
    {
     "name": "stdout",
     "output_type": "stream",
     "text": [
      "   execucao                                    melhor_caminho  \\\n",
      "0         4  [(3, 2), (2, 1), (1, 4), (4, 5), (5, 0), (0, 3)]   \n",
      "1         1  [(3, 2), (2, 1), (1, 4), (4, 5), (5, 0), (0, 3)]   \n",
      "2         2  [(1, 4), (4, 5), (5, 0), (0, 3), (3, 2), (2, 1)]   \n",
      "3         3  [(2, 1), (1, 4), (4, 5), (5, 0), (0, 3), (3, 2)]   \n",
      "4         4  [(3, 2), (2, 1), (1, 4), (4, 5), (5, 0), (0, 3)]   \n",
      "\n",
      "   distancia_total  tempo_execucao  \\\n",
      "0      1105.517077        8.596155   \n",
      "1      1105.517077        6.796365   \n",
      "2      1105.517077       16.636700   \n",
      "3      1105.517077        7.510005   \n",
      "4      1105.517077       18.030851   \n",
      "\n",
      "                                    historico_custos  \n",
      "0  [1105.5170774847277, 1105.5170774847277, 1105....  \n",
      "1  [1105.5170774847277, 1105.5170774847277, 1105....  \n",
      "2  [1105.5170774847277, 1105.5170774847277, 1105....  \n",
      "3  [1105.5170774847277, 1105.5170774847277, 1105....  \n",
      "4  [1105.5170774847277, 1105.5170774847277, 1105....  \n"
     ]
    }
   ],
   "source": [
    "def processar_dados_aco(dados):\n",
    "    if isinstance(dados, list) and all(isinstance(item, dict) for item in dados):\n",
    "        return pd.DataFrame({\n",
    "            'execucao': [item.get('execucao') for item in dados],\n",
    "            'melhor_caminho': [item.get('melhor_caminho') for item in dados],\n",
    "            'distancia_total': [item.get('distancia_total') for item in dados],\n",
    "            'tempo_execucao': [item.get('tempo_execucao') for item in dados],\n",
    "            'historico_custos': [item.get('historico_custos') for item in dados]\n",
    "        })\n",
    "    else:\n",
    "        raise ValueError(\"Estrutura dos dados não reconhecida.\")\n",
    "\n",
    "# Carregar e processar dados\n",
    "execucoes_aco = carregar_dados_aco('resultados_aco.npz')\n",
    "if execucoes_aco:\n",
    "    df_aco = processar_dados_aco(execucoes_aco)\n",
    "    # Exibir as primeiras linhas do DataFrame\n",
    "    print(df_aco.head(5))\n",
    "else:\n",
    "    print(\"Nenhum dado foi carregado.\")\n"
   ]
  },
  {
   "cell_type": "markdown",
   "metadata": {},
   "source": [
    "### Consultar as colunas do data frame"
   ]
  },
  {
   "cell_type": "code",
   "execution_count": 9,
   "metadata": {},
   "outputs": [
    {
     "name": "stdout",
     "output_type": "stream",
     "text": [
      "Index(['execucao', 'melhor_caminho', 'distancia_total', 'tempo_execucao',\n",
      "       'historico_custos'],\n",
      "      dtype='object')\n"
     ]
    }
   ],
   "source": [
    "# Verifique as colunas do DataFrame df_aco\n",
    "print(df_aco.columns)\n"
   ]
  },
  {
   "cell_type": "markdown",
   "metadata": {},
   "source": [
    "# Análise e Visualização\n",
    "\n",
    "### Distribuição da Distância Total para GRASP"
   ]
  },
  {
   "cell_type": "code",
   "execution_count": null,
   "metadata": {},
   "outputs": [],
   "source": [
    "\n",
    "distancia_constante = df_grasp['distancia_total'].iloc[0]  # Obtendo o valor constante\n",
    "\n",
    "plt.figure(figsize=(12, 6))\n",
    "plt.scatter(range(len(df_grasp)), df_grasp['distancia_total'], color='skyblue', alpha=0.7)\n",
    "plt.axhline(y=distancia_constante, color='red', linestyle='--', label=f'Valor Constante: {distancia_constante}')\n",
    "plt.title('Distância Total para GRASP (Dispersão)')\n",
    "plt.xlabel('Execução')\n",
    "plt.ylabel('Distância Total')\n",
    "plt.legend()\n",
    "plt.grid(True)\n",
    "plt.show()\n"
   ]
  },
  {
   "cell_type": "markdown",
   "metadata": {},
   "source": [
    "### Distribuição do Tempo de Execução para GRASP"
   ]
  },
  {
   "cell_type": "code",
   "execution_count": null,
   "metadata": {},
   "outputs": [],
   "source": [
    "plt.figure(figsize=(12, 6))\n",
    "plt.plot(range(1, len(df_grasp) + 1), df_grasp['tempo_execucao'], label='GRASP', color='blue', marker='o')\n",
    "plt.title('Tempo de Execução ao Longo das Execuções - GRASP')\n",
    "plt.xlabel('Número da Execução')\n",
    "plt.ylabel('Tempo de Execução (segundos)')\n",
    "plt.grid(True)\n",
    "plt.show()"
   ]
  },
  {
   "cell_type": "markdown",
   "metadata": {},
   "source": [
    "### Distribuição da Distância Total para ACO\n"
   ]
  },
  {
   "cell_type": "code",
   "execution_count": null,
   "metadata": {},
   "outputs": [],
   "source": [
    "plt.figure(figsize=(12, 6))\n",
    "plt.plot(df_aco['distancia_total'], df_aco['execucao_num'], marker='o', linestyle='-', color='salmon', label='ACO')\n",
    "plt.title('Evolução da Distância Total para ACO')\n",
    "plt.xlabel('Distância Total')\n",
    "plt.ylabel('Número de Execução')\n",
    "plt.grid(True)\n",
    "plt.legend()\n",
    "plt.show()\n"
   ]
  },
  {
   "cell_type": "markdown",
   "metadata": {},
   "source": [
    "### Distribuição do Tempo de Execução para ACO\n"
   ]
  },
  {
   "cell_type": "code",
   "execution_count": null,
   "metadata": {},
   "outputs": [],
   "source": [
    "# Gráfico de linha para o tempo de execução ao longo das execuções - ACO\n",
    "plt.figure(figsize=(12, 6))\n",
    "plt.plot(range(1, len(df_aco) + 1), df_aco['tempo_execucao'], label='ACO', color='red', marker='o')\n",
    "plt.title('Tempo de Execução ao Longo das Execuções - ACO')\n",
    "plt.xlabel('Número da Execução')\n",
    "plt.ylabel('Tempo de Execução (segundos)')\n",
    "plt.grid(True)\n",
    "plt.show()\n"
   ]
  },
  {
   "cell_type": "markdown",
   "metadata": {},
   "source": [
    "### Comparar Distribuição da Distância Total entre GRASP e ACO\n"
   ]
  },
  {
   "cell_type": "code",
   "execution_count": null,
   "metadata": {},
   "outputs": [],
   "source": [
    "# Comparar distribuição da distância total entre GRASP e ACO\n",
    "plt.figure(figsize=(12, 6))\n",
    "plt.hist(df_grasp['distancia_total'], bins=20, alpha=0.5, label='GRASP', edgecolor='k')\n",
    "plt.hist(df_aco['distancia_total'], bins=20, alpha=0.5, label='ACO', edgecolor='k')\n",
    "plt.title('Comparação da Distância Total entre GRASP e ACO')\n",
    "plt.xlabel('Distância Total')\n",
    "plt.ylabel('Frequência')\n",
    "plt.legend()\n",
    "plt.show()\n"
   ]
  },
  {
   "cell_type": "markdown",
   "metadata": {},
   "source": [
    "### Comparar Distribuição do Tempo de Execução entre GRASP e ACO\n"
   ]
  },
  {
   "cell_type": "code",
   "execution_count": null,
   "metadata": {},
   "outputs": [],
   "source": [
    "# Gráfico de linha para o tempo de execução ao longo das execuções - GRASP e ACO\n",
    "plt.figure(figsize=(12, 6))\n",
    "\n",
    "# Linha para GRASP\n",
    "plt.plot(range(1, len(df_grasp) + 1), df_grasp['tempo_execucao'], label='GRASP', color='blue', marker='o')\n",
    "\n",
    "# Linha para ACO\n",
    "plt.plot(range(1, len(df_aco) + 1), df_aco['tempo_execucao'], label='ACO', color='red', marker='o')\n",
    "\n",
    "# Configurações do gráfico\n",
    "plt.title('Tempo de Execução ao Longo das Execuções - GRASP vs ACO')\n",
    "plt.xlabel('Número da Execução')\n",
    "plt.ylabel('Tempo de Execução (segundos)')\n",
    "plt.legend()\n",
    "plt.grid(True)\n",
    "plt.show()\n"
   ]
  },
  {
   "cell_type": "markdown",
   "metadata": {},
   "source": [
    "# Análise Estatística para ACO e GRASP\n",
    "\n",
    "Vamos realizar uma análise detalhada dos tempos de execução e das soluções encontradas para os algoritmos ACO e GRASP.\n",
    "\n"
   ]
  },
  {
   "cell_type": "markdown",
   "metadata": {},
   "source": [
    "### Melhor Caminho de Cada Execução\n"
   ]
  },
  {
   "cell_type": "code",
   "execution_count": null,
   "metadata": {},
   "outputs": [],
   "source": [
    "print(\"Melhor Caminho Encontrado em Cada Execução (GRASP):\")\n",
    "print(df_grasp['melhor_caminho'])\n",
    "\n",
    "print(\"Melhor Caminho Encontrado em Cada Execução (ACO):\")\n",
    "print(df_aco['melhor_caminho'])\n"
   ]
  },
  {
   "cell_type": "markdown",
   "metadata": {},
   "source": [
    "### Melhor Caminho de Cada Iteração"
   ]
  },
  {
   "cell_type": "code",
   "execution_count": null,
   "metadata": {},
   "outputs": [],
   "source": [
    "# Exemplo para ACO\n",
    "df_aco['melhor_caminho_iteracoes'] = [iteracao for iteracao in df_aco['historico_custos']]\n",
    "print(df_aco[['melhor_caminho', 'melhor_caminho_iteracoes']])\n"
   ]
  },
  {
   "cell_type": "markdown",
   "metadata": {},
   "source": [
    "### Distância do Melhor Caminho e Distância a Cada Iteração\n"
   ]
  },
  {
   "cell_type": "code",
   "execution_count": null,
   "metadata": {},
   "outputs": [],
   "source": [
    "print(\"Distância do Melhor Caminho (GRASP):\")\n",
    "print(df_grasp['distancia_total'])\n",
    "\n",
    "print(\"Distância do Melhor Caminho (ACO):\")\n",
    "print(df_aco['distancia_total'])\n",
    "\n",
    "print(\"Distâncias ao Longo das Iterações (ACO):\")\n",
    "print(df_aco['historico_custos'])\n"
   ]
  },
  {
   "cell_type": "markdown",
   "metadata": {},
   "source": [
    "### Tempo de Cada Execução"
   ]
  },
  {
   "cell_type": "code",
   "execution_count": null,
   "metadata": {},
   "outputs": [],
   "source": [
    "print(\"Tempo de Execução (GRASP):\")\n",
    "print(df_grasp['tempo_execucao'])\n",
    "\n",
    "print(\"Tempo de Execução (ACO):\")\n",
    "print(df_aco['tempo_execucao'])\n"
   ]
  },
  {
   "cell_type": "markdown",
   "metadata": {},
   "source": [
    "## Estatísticas Básicas: Média, Mediana e Moda\n"
   ]
  },
  {
   "cell_type": "code",
   "execution_count": null,
   "metadata": {},
   "outputs": [],
   "source": [
    "from scipy import stats\n",
    "\n",
    "def estatisticas(df, coluna):\n",
    "    media = df[coluna].mean()\n",
    "    mediana = df[coluna].median()\n",
    "    \n",
    "    # Calcula a moda\n",
    "    moda_resultado = stats.mode(df[coluna], keepdims=True)\n",
    "    moda = moda_resultado.mode[0] if moda_resultado.count[0] > 0 else np.nan\n",
    "    \n",
    "    desvio_padrao = df[coluna].std()\n",
    "    minimo = df[coluna].min()\n",
    "    maximo = df[coluna].max()\n",
    "    \n",
    "    return media, mediana, moda, desvio_padrao, minimo, maximo\n",
    "\n",
    "# Estatísticas para GRASP\n",
    "media_tempo_grasp, mediana_tempo_grasp, moda_tempo_grasp, desvio_padrao_tempo_grasp, min_tempo_grasp, max_tempo_grasp = estatisticas(df_grasp, 'tempo_execucao')\n",
    "media_distancia_grasp, mediana_distancia_grasp, moda_distancia_grasp, desvio_padrao_distancia_grasp, min_distancia_grasp, max_distancia_grasp = estatisticas(df_grasp, 'distancia_total')\n",
    "\n",
    "# Estatísticas para ACO\n",
    "media_tempo_aco, mediana_tempo_aco, moda_tempo_aco, desvio_padrao_tempo_aco, min_tempo_aco, max_tempo_aco = estatisticas(df_aco, 'tempo_execucao')\n",
    "media_distancia_aco, mediana_distancia_aco, moda_distancia_aco, desvio_padrao_distancia_aco, min_distancia_aco, max_distancia_aco = estatisticas(df_aco, 'distancia_total')\n",
    "\n",
    "print(f\"GRASP - Tempo de Execução: Média={media_tempo_grasp}, Mediana={mediana_tempo_grasp}, Moda={moda_tempo_grasp}, Desvio Padrão={desvio_padrao_tempo_grasp}, Minimo={min_tempo_grasp}, Máximo={max_tempo_grasp}\")\n",
    "print(f\"GRASP - Distância Total: Média={media_distancia_grasp}, Mediana={mediana_distancia_grasp}, Moda={moda_distancia_grasp}, Desvio Padrão={desvio_padrao_distancia_grasp}, Minimo={min_distancia_grasp}, Máximo={max_distancia_grasp}\")\n",
    "\n",
    "print(f\"ACO - Tempo de Execução: Média={media_tempo_aco}, Mediana={mediana_tempo_aco}, Moda={moda_tempo_aco}, Desvio Padrão={desvio_padrao_tempo_aco}, Minimo={min_tempo_aco}, Máximo={max_tempo_aco}\")\n",
    "print(f\"ACO - Distância Total: Média={media_distancia_aco}, Mediana={mediana_distancia_aco}, Moda={moda_distancia_aco}, Desvio Padrão={desvio_padrao_distancia_aco}, Minimo={min_distancia_aco}, Máximo={max_distancia_aco}\")\n"
   ]
  },
  {
   "cell_type": "markdown",
   "metadata": {},
   "source": [
    "## Desvio Padrão\n"
   ]
  },
  {
   "cell_type": "code",
   "execution_count": null,
   "metadata": {},
   "outputs": [],
   "source": [
    "# Desvio padrão para ACO\n",
    "desvio_padrao_tempo_aco = df_aco['tempo_execucao'].std()\n",
    "desvio_padrao_distancia_aco = df_aco['distancia_total'].std()\n",
    "\n",
    "print(\"ACO:\")\n",
    "print(f\"Desvio padrão do tempo de execução: {desvio_padrao_tempo_aco}\")\n",
    "print(f\"Desvio padrão da distância total: {desvio_padrao_distancia_aco}\")\n",
    "\n",
    "# Desvio padrão para GRASP (assumindo que df_grasp já está definido)\n",
    "desvio_padrao_tempo_grasp = df_grasp['tempo_execucao'].std()\n",
    "desvio_padrao_distancia_grasp = df_grasp['distancia_total'].std()\n",
    "\n",
    "print(\"\\nGRASP:\")\n",
    "print(f\"Desvio padrão do tempo de execução: {desvio_padrao_tempo_grasp}\")\n",
    "print(f\"Desvio padrão da distância total: {desvio_padrao_distancia_grasp}\")\n"
   ]
  },
  {
   "cell_type": "markdown",
   "metadata": {},
   "source": [
    "### Ponto de Convergência\n"
   ]
  },
  {
   "cell_type": "code",
   "execution_count": null,
   "metadata": {},
   "outputs": [],
   "source": [
    "# Para ACO\n",
    "def detectar_convergencia(historico_custos):\n",
    "    melhorias = np.diff(historico_custos)  # Diferença entre custos consecutivos\n",
    "    estagnacao = np.where(melhorias <= 0)[0]  # Índices onde não há melhoria\n",
    "    if len(estagnacao) > 0:\n",
    "        return estagnacao[0] + 1  # Retorna a primeira iteração de estagnação\n",
    "    return len(historico_custos)  # Se não houver estagnação, retorna o total de iterações\n",
    "\n",
    "df_aco['ponto_convergencia'] = df_aco['historico_custos'].apply(detectar_convergencia)\n",
    "print(df_aco[['ponto_convergencia']])\n"
   ]
  },
  {
   "cell_type": "markdown",
   "metadata": {},
   "source": [
    "### Histórico de Custo\n"
   ]
  },
  {
   "cell_type": "code",
   "execution_count": null,
   "metadata": {},
   "outputs": [],
   "source": [
    "# Plotar o histórico de custos para ACO\n",
    "plt.figure(figsize=(12, 6))\n",
    "for i, row in df_aco.iterrows():\n",
    "    plt.plot(row['historico_custos'], label=f'Execução {i+1}')\n",
    "\n",
    "plt.title('Histórico de Custo ao Longo das Iterações (ACO)')\n",
    "plt.xlabel('Número da Iteração')\n",
    "plt.ylabel('Custo')\n",
    "plt.legend()\n",
    "plt.grid(True)\n",
    "plt.show()\n"
   ]
  }
 ],
 "metadata": {
  "kernelspec": {
   "display_name": ".venv",
   "language": "python",
   "name": "python3"
  },
  "language_info": {
   "codemirror_mode": {
    "name": "ipython",
    "version": 3
   },
   "file_extension": ".py",
   "mimetype": "text/x-python",
   "name": "python",
   "nbconvert_exporter": "python",
   "pygments_lexer": "ipython3",
   "version": "3.12.2"
  }
 },
 "nbformat": 4,
 "nbformat_minor": 2
}
